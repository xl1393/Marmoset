{
 "cells": [
  {
   "cell_type": "code",
   "execution_count": 1,
   "metadata": {
    "collapsed": true
   },
   "outputs": [],
   "source": [
    "from os import listdir\n",
    "from os.path import isfile, join\n",
    "import h5py\n",
    "import cv2\n",
    "import numpy as np\n",
    "from skimage.util import view_as_blocks\n",
    "from time import gmtime, strftime\n",
    "from multiprocessing import Pool\n",
    "from os import mkdir\n",
    "import glob, os\n"
   ]
  },
  {
   "cell_type": "code",
   "execution_count": 16,
   "metadata": {
    "collapsed": false
   },
   "outputs": [],
   "source": [
    "def FileProcess(i):\n",
    "    print 'processing number '+str(i)\n",
    "    folder='/home/xli/M919_Green_SK/'+str(i)+'/'\n",
    "    k=np.zeros((512,512,337))\n",
    "    os.chdir(folder)\n",
    "    kcount=0\n",
    "    for file in glob.glob(\"*.jp2\"):\n",
    "        k[:,:,kcount]=cv2.imread(folder+file,0)\n",
    "        kcount=kcount+1\n",
    "        thumbnail=np.max(k,axis=2)\n",
    "        cv2.imwrite('/home/xli/M919_Green_SK_Thumbnail/'+str(i)+'.jpg',thumbnail)"
   ]
  },
  {
   "cell_type": "code",
   "execution_count": 20,
   "metadata": {
    "collapsed": false
   },
   "outputs": [],
   "source": [
    "data=range(6745)"
   ]
  },
  {
   "cell_type": "code",
   "execution_count": 24,
   "metadata": {
    "collapsed": false
   },
   "outputs": [
    {
     "name": "stdout",
     "output_type": "stream",
     "text": [
      "processing number 595\n",
      "processing number 0\n",
      "processing number 680\n",
      "processing number 85\n",
      "processing number 510\n",
      "processing number 1020\n",
      "processing number 850\n",
      "processing number 340\n",
      "processing number 935\n",
      "processing number 765\n",
      "processing number 255\n",
      "processing number 170\n",
      "processing number 1105\n",
      "processing number 1190\n",
      "processing number 425\n",
      "processing number 1445\n",
      "processing number 1360\n",
      "processing number 1275\n",
      "processing number 1615\n",
      "processing number 1530\n",
      "processing number 1700\n"
     ]
    },
    {
     "ename": "IndexError",
     "evalue": "index 337 is out of bounds for axis 2 with size 337",
     "output_type": "error",
     "traceback": [
      "\u001b[0;31m---------------------------------------------------------------------------\u001b[0m",
      "\u001b[0;31mIndexError\u001b[0m                                Traceback (most recent call last)",
      "\u001b[0;32m<ipython-input-24-784b10bf2dcf>\u001b[0m in \u001b[0;36m<module>\u001b[0;34m()\u001b[0m\n\u001b[1;32m      1\u001b[0m \u001b[0mp\u001b[0m\u001b[0;34m=\u001b[0m\u001b[0mPool\u001b[0m\u001b[0;34m(\u001b[0m\u001b[0;36m20\u001b[0m\u001b[0;34m)\u001b[0m\u001b[0;34m\u001b[0m\u001b[0m\n\u001b[0;32m----> 2\u001b[0;31m \u001b[0mp\u001b[0m\u001b[0;34m.\u001b[0m\u001b[0mmap\u001b[0m\u001b[0;34m(\u001b[0m\u001b[0mFileProcess\u001b[0m\u001b[0;34m,\u001b[0m\u001b[0mdata\u001b[0m\u001b[0;34m)\u001b[0m\u001b[0;34m\u001b[0m\u001b[0m\n\u001b[0m",
      "\u001b[0;32m/usr/local/anaconda2/lib/python2.7/multiprocessing/pool.pyc\u001b[0m in \u001b[0;36mmap\u001b[0;34m(self, func, iterable, chunksize)\u001b[0m\n\u001b[1;32m    249\u001b[0m         '''\n\u001b[1;32m    250\u001b[0m         \u001b[0;32massert\u001b[0m \u001b[0mself\u001b[0m\u001b[0;34m.\u001b[0m\u001b[0m_state\u001b[0m \u001b[0;34m==\u001b[0m \u001b[0mRUN\u001b[0m\u001b[0;34m\u001b[0m\u001b[0m\n\u001b[0;32m--> 251\u001b[0;31m         \u001b[0;32mreturn\u001b[0m \u001b[0mself\u001b[0m\u001b[0;34m.\u001b[0m\u001b[0mmap_async\u001b[0m\u001b[0;34m(\u001b[0m\u001b[0mfunc\u001b[0m\u001b[0;34m,\u001b[0m \u001b[0miterable\u001b[0m\u001b[0;34m,\u001b[0m \u001b[0mchunksize\u001b[0m\u001b[0;34m)\u001b[0m\u001b[0;34m.\u001b[0m\u001b[0mget\u001b[0m\u001b[0;34m(\u001b[0m\u001b[0;34m)\u001b[0m\u001b[0;34m\u001b[0m\u001b[0m\n\u001b[0m\u001b[1;32m    252\u001b[0m \u001b[0;34m\u001b[0m\u001b[0m\n\u001b[1;32m    253\u001b[0m     \u001b[0;32mdef\u001b[0m \u001b[0mimap\u001b[0m\u001b[0;34m(\u001b[0m\u001b[0mself\u001b[0m\u001b[0;34m,\u001b[0m \u001b[0mfunc\u001b[0m\u001b[0;34m,\u001b[0m \u001b[0miterable\u001b[0m\u001b[0;34m,\u001b[0m \u001b[0mchunksize\u001b[0m\u001b[0;34m=\u001b[0m\u001b[0;36m1\u001b[0m\u001b[0;34m)\u001b[0m\u001b[0;34m:\u001b[0m\u001b[0;34m\u001b[0m\u001b[0m\n",
      "\u001b[0;32m/usr/local/anaconda2/lib/python2.7/multiprocessing/pool.pyc\u001b[0m in \u001b[0;36mget\u001b[0;34m(self, timeout)\u001b[0m\n\u001b[1;32m    565\u001b[0m             \u001b[0;32mreturn\u001b[0m \u001b[0mself\u001b[0m\u001b[0;34m.\u001b[0m\u001b[0m_value\u001b[0m\u001b[0;34m\u001b[0m\u001b[0m\n\u001b[1;32m    566\u001b[0m         \u001b[0;32melse\u001b[0m\u001b[0;34m:\u001b[0m\u001b[0;34m\u001b[0m\u001b[0m\n\u001b[0;32m--> 567\u001b[0;31m             \u001b[0;32mraise\u001b[0m \u001b[0mself\u001b[0m\u001b[0;34m.\u001b[0m\u001b[0m_value\u001b[0m\u001b[0;34m\u001b[0m\u001b[0m\n\u001b[0m\u001b[1;32m    568\u001b[0m \u001b[0;34m\u001b[0m\u001b[0m\n\u001b[1;32m    569\u001b[0m     \u001b[0;32mdef\u001b[0m \u001b[0m_set\u001b[0m\u001b[0;34m(\u001b[0m\u001b[0mself\u001b[0m\u001b[0;34m,\u001b[0m \u001b[0mi\u001b[0m\u001b[0;34m,\u001b[0m \u001b[0mobj\u001b[0m\u001b[0;34m)\u001b[0m\u001b[0;34m:\u001b[0m\u001b[0;34m\u001b[0m\u001b[0m\n",
      "\u001b[0;31mIndexError\u001b[0m: index 337 is out of bounds for axis 2 with size 337"
     ]
    },
    {
     "name": "stdout",
     "output_type": "stream",
     "text": [
      "processing number 511\n",
      "processing number 1191\n",
      "processing number 681\n",
      "processing number 1446\n",
      "processing number 86\n",
      "processing number 596\n",
      "processing number 1616\n",
      "processing number 851\n",
      "processing number 766\n",
      "processing number 936\n",
      "processing number 1361\n",
      "processing number 171\n",
      "processing number 1021\n",
      "processing number 341\n",
      "processing number 1276\n",
      "processing number 1531\n",
      "processing number 1106\n",
      "processing number 256\n",
      "processing number 426\n",
      "processing number 1701\n",
      "processing number 1447\n",
      "processing number 512\n",
      "processing number 682\n",
      "processing number 597\n",
      "processing number 87\n",
      "processing number 1192\n",
      "processing number 852\n",
      "processing number 1617\n",
      "processing number 767\n",
      "processing number 1362\n",
      "processing number 172\n",
      "processing number 1277\n",
      "processing number 937\n",
      "processing number 1532\n",
      "processing number 1107\n",
      "processing number 342\n",
      "processing number 1022\n",
      "processing number 257\n",
      "processing number 427\n",
      "processing number 1702\n",
      "processing number 1448\n",
      "processing number 513\n",
      "processing number 768\n",
      "processing number 598\n",
      "processing number 1193\n",
      "processing number 88\n",
      "processing number 683\n",
      "processing number 258\n",
      "processing number 1023\n",
      "processing number 1108\n",
      "processing number 938\n",
      "processing number 1278\n",
      "processing number 1533\n",
      "processing number 173\n",
      "processing number 853\n",
      "processing number 1618\n",
      "processing number 343\n",
      "processing number 1363\n",
      "processing number 428\n",
      "processing number 1703\n",
      "processing number 599\n",
      "processing number 1194\n",
      "processing number 684\n",
      "processing number 89\n",
      "processing number 769\n",
      "processing number 1449\n",
      "processing number 514\n",
      "processing number 1109\n",
      "processing number 1024\n",
      "processing number 1534\n",
      "processing number 939\n",
      "processing number 1279\n",
      "processing number 174\n",
      "processing number 854\n",
      "processing number 259\n",
      "processing number 1619\n",
      "processing number 1364\n",
      "processing number 429\n",
      "processing number 344\n"
     ]
    }
   ],
   "source": [
    "p=Pool(20)\n",
    "p.map(FileProcess,data)"
   ]
  },
  {
   "cell_type": "code",
   "execution_count": null,
   "metadata": {
    "collapsed": true
   },
   "outputs": [],
   "source": []
  }
 ],
 "metadata": {
  "kernelspec": {
   "display_name": "Python 2",
   "language": "python",
   "name": "python2"
  },
  "language_info": {
   "codemirror_mode": {
    "name": "ipython",
    "version": 2
   },
   "file_extension": ".py",
   "mimetype": "text/x-python",
   "name": "python",
   "nbconvert_exporter": "python",
   "pygments_lexer": "ipython2",
   "version": "2.7.13"
  }
 },
 "nbformat": 4,
 "nbformat_minor": 2
}
