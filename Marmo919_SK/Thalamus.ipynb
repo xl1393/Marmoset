{
 "cells": [
  {
   "cell_type": "code",
   "execution_count": 5,
   "metadata": {
    "collapsed": true
   },
   "outputs": [],
   "source": [
    "from os import listdir\n",
    "from os.path import isfile, join\n",
    "import h5py\n",
    "import cv2\n",
    "import numpy as np\n",
    "from skimage.util import view_as_blocks\n",
    "from time import gmtime, strftime\n",
    "from multiprocessing import Pool\n",
    "from os import mkdir"
   ]
  },
  {
   "cell_type": "code",
   "execution_count": 6,
   "metadata": {
    "collapsed": true
   },
   "outputs": [],
   "source": [
    "x1=18574\n",
    "y1=17068"
   ]
  },
  {
   "cell_type": "code",
   "execution_count": 7,
   "metadata": {
    "collapsed": true
   },
   "outputs": [],
   "source": [
    "count=0\n",
    "with open('Thalamus_order.txt') as f:\n",
    "    content = f.readlines()\n",
    "#remove whitespace characters like `\\n` at the end of each line\n",
    "content = [x.strip() for x in content]  \n",
    "para=[]\n",
    "count=0\n",
    "for i in content:\n",
    "    para.append(('MATdata/'+i,count))\n",
    "    count=count+1"
   ]
  },
  {
   "cell_type": "code",
   "execution_count": 8,
   "metadata": {
    "collapsed": false
   },
   "outputs": [
    {
     "data": {
      "text/plain": [
       "[('MATdata/M919-F85--_3_0255.mat', 0),\n",
       " ('MATdata/M919-F86--_3_0258.mat', 1),\n",
       " ('MATdata/M919-F87--_3_0261.mat', 2),\n",
       " ('MATdata/M919-F89--_3_0267.mat', 3),\n",
       " ('MATdata/M919-F90--_3_0270.mat', 4),\n",
       " ('MATdata/M919-F91--_3_0273.mat', 5),\n",
       " ('MATdata/M919-F92--_3_0276.mat', 6),\n",
       " ('MATdata/M919-F93--_3_0279.mat', 7),\n",
       " ('MATdata/M919-F94--_3_0282.mat', 8),\n",
       " ('MATdata/M919-F95--_3_0285.mat', 9),\n",
       " ('MATdata/M919-F96--_3_0288.mat', 10),\n",
       " ('MATdata/M919-F97--_3_0291.mat', 11),\n",
       " ('MATdata/M919-F98--_3_0294.mat', 12),\n",
       " ('MATdata/M919-F99--_3_0297.mat', 13),\n",
       " ('MATdata/M919-F100--_3_0300.mat', 14),\n",
       " ('MATdata/M919-F101--_3_0303.mat', 15),\n",
       " ('MATdata/M919-F102--_3_0306.mat', 16),\n",
       " ('MATdata/M919-F103--_3_0309.mat', 17),\n",
       " ('MATdata/M919-F104--_3_0312.mat', 18),\n",
       " ('MATdata/M919-F105--_3_0315.mat', 19),\n",
       " ('MATdata/M919-F106--_3_0318.mat', 20),\n",
       " ('MATdata/M919-F107--_3_0321.mat', 21)]"
      ]
     },
     "execution_count": 8,
     "metadata": {},
     "output_type": "execute_result"
    }
   ],
   "source": [
    "para"
   ]
  },
  {
   "cell_type": "code",
   "execution_count": 16,
   "metadata": {
    "collapsed": true
   },
   "outputs": [],
   "source": [
    "def FileProcess(filemeta):\n",
    "    #read image\n",
    "    testfile=filemeta[0]\n",
    "    print 'processing '+testfile\n",
    "    count=filemeta[1]\n",
    "    data=h5py.File(testfile)\n",
    "    img=np.asarray(data['img'],'uint8')\n",
    "    img=img.T\n",
    "    img[:,:,[0,1,2]]=img[:,:,[2,1,0]]\n",
    "    #get blocklist\n",
    "    #blocks=GetBlockList()\n",
    "    #for k in blocks:\n",
    "        #blockprocess(img,k,count)\n",
    "        \n",
    "    cv2.imwrite('Thalamus_'+str(count)+'.jpg',img[x1:x1+10*512,y1:y1+10*512,:])\n",
    "    print 'finishing '+testfile"
   ]
  },
  {
   "cell_type": "code",
   "execution_count": 14,
   "metadata": {
    "collapsed": false
   },
   "outputs": [
    {
     "name": "stdout",
     "output_type": "stream",
     "text": [
      "processing MATdata/M919-F85--_3_0255.mat\n",
      "finishing MATdata/M919-F85--_3_0255.mat\n"
     ]
    }
   ],
   "source": [
    "FileProcess(para[0])"
   ]
  },
  {
   "cell_type": "code",
   "execution_count": 17,
   "metadata": {
    "collapsed": false,
    "scrolled": true
   },
   "outputs": [
    {
     "name": "stdout",
     "output_type": "stream",
     "text": [
      "processing MATdata/M919-F85--_3_0255.mat\n",
      "processing MATdata/M919-F87--_3_0261.mat\n",
      "processing MATdata/M919-F90--_3_0270.mat\n",
      "processing MATdata/M919-F92--_3_0276.mat\n",
      "processing MATdata/M919-F94--_3_0282.mat\n",
      "finishing MATdata/M919-F85--_3_0255.mat\n",
      "processing MATdata/M919-F86--_3_0258.mat\n",
      "finishing MATdata/M919-F90--_3_0270.mat\n",
      "processing MATdata/M919-F91--_3_0273.mat\n",
      "finishing MATdata/M919-F92--_3_0276.mat\n",
      "finishing MATdata/M919-F94--_3_0282.mat\n",
      "processing MATdata/M919-F93--_3_0279.mat\n",
      "processing MATdata/M919-F95--_3_0285.mat\n",
      "finishing MATdata/M919-F87--_3_0261.mat\n",
      "processing MATdata/M919-F89--_3_0267.mat\n",
      "finishing MATdata/M919-F86--_3_0258.mat\n",
      "processing MATdata/M919-F96--_3_0288.mat\n",
      "finishing MATdata/M919-F91--_3_0273.mat\n",
      "processing MATdata/M919-F98--_3_0294.mat\n",
      "finishing MATdata/M919-F95--_3_0285.mat\n",
      "processing MATdata/M919-F100--_3_0300.mat\n",
      "finishing MATdata/M919-F93--_3_0279.mat\n",
      "processing MATdata/M919-F102--_3_0306.mat\n",
      "finishing MATdata/M919-F96--_3_0288.mat\n",
      "processing MATdata/M919-F97--_3_0291.mat\n",
      "finishing MATdata/M919-F89--_3_0267.mat\n",
      "processing MATdata/M919-F104--_3_0312.mat\n",
      "finishing MATdata/M919-F100--_3_0300.mat\n",
      "processing MATdata/M919-F101--_3_0303.mat\n",
      "finishing MATdata/M919-F102--_3_0306.mat\n",
      "processing MATdata/M919-F103--_3_0309.mat\n",
      "finishing MATdata/M919-F98--_3_0294.mat\n",
      "processing MATdata/M919-F99--_3_0297.mat\n",
      "finishing MATdata/M919-F104--_3_0312.mat\n",
      "processing MATdata/M919-F105--_3_0315.mat\n",
      "finishing MATdata/M919-F103--_3_0309.mat\n",
      "processing MATdata/M919-F106--_3_0318.mat\n",
      "finishing MATdata/M919-F97--_3_0291.mat\n",
      "finishing MATdata/M919-F101--_3_0303.mat\n",
      "finishing MATdata/M919-F105--_3_0315.mat\n",
      "finishing MATdata/M919-F99--_3_0297.mat\n",
      "finishing MATdata/M919-F106--_3_0318.mat\n",
      "processing MATdata/M919-F107--_3_0321.mat\n",
      "finishing MATdata/M919-F107--_3_0321.mat\n"
     ]
    },
    {
     "data": {
      "text/plain": [
       "[None,\n",
       " None,\n",
       " None,\n",
       " None,\n",
       " None,\n",
       " None,\n",
       " None,\n",
       " None,\n",
       " None,\n",
       " None,\n",
       " None,\n",
       " None,\n",
       " None,\n",
       " None,\n",
       " None,\n",
       " None,\n",
       " None,\n",
       " None,\n",
       " None,\n",
       " None,\n",
       " None,\n",
       " None]"
      ]
     },
     "execution_count": 17,
     "metadata": {},
     "output_type": "execute_result"
    }
   ],
   "source": [
    "p=Pool(5)\n",
    "p.map(FileProcess,para)"
   ]
  },
  {
   "cell_type": "code",
   "execution_count": null,
   "metadata": {
    "collapsed": true
   },
   "outputs": [],
   "source": []
  }
 ],
 "metadata": {
  "kernelspec": {
   "display_name": "Python 2",
   "language": "python",
   "name": "python2"
  },
  "language_info": {
   "codemirror_mode": {
    "name": "ipython",
    "version": 2
   },
   "file_extension": ".py",
   "mimetype": "text/x-python",
   "name": "python",
   "nbconvert_exporter": "python",
   "pygments_lexer": "ipython2",
   "version": "2.7.13"
  }
 },
 "nbformat": 4,
 "nbformat_minor": 2
}
