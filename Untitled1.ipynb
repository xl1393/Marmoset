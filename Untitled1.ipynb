{
 "cells": [
  {
   "cell_type": "code",
   "execution_count": 2,
   "metadata": {
    "collapsed": true
   },
   "outputs": [],
   "source": [
    "from os import listdir\n",
    "from os.path import isfile, join\n"
   ]
  },
  {
   "cell_type": "code",
   "execution_count": 1,
   "metadata": {
    "collapsed": true
   },
   "outputs": [],
   "source": [
    "filepath='m820F/fluoroonly/'"
   ]
  },
  {
   "cell_type": "code",
   "execution_count": 4,
   "metadata": {
    "collapsed": false
   },
   "outputs": [],
   "source": [
    "onlyfiles = [f for f in listdir(filepath) if isfile(join(filepath, f))]"
   ]
  },
  {
   "cell_type": "code",
   "execution_count": 5,
   "metadata": {
    "collapsed": false
   },
   "outputs": [
    {
     "data": {
      "text/plain": [
       "['M820-F190--_3_0570_fluoroonly.mat',\n",
       " 'M820-F191--_3_0573_fluoroonly.mat',\n",
       " 'M820-F192--_3_0576_fluoroonly.mat',\n",
       " 'M820-F193--_3_0579_fluoroonly.mat',\n",
       " 'M820-F194--_3_0582_fluoroonly.mat',\n",
       " 'M820-F195--_3_0585_fluoroonly.mat',\n",
       " 'M820-F196--_3_0588_fluoroonly.mat',\n",
       " 'M820-F197--_3_0591_fluoroonly.mat',\n",
       " 'M820-F198--_3_0594_fluoroonly.mat',\n",
       " 'M820-F199--_3_0597_fluoroonly.mat',\n",
       " 'M820-F200--_3_0600_fluoroonly.mat',\n",
       " 'M820-F201--_2_0602_fluoroonly.mat',\n",
       " 'M820-F201--_3_0603_fluoroonly.mat',\n",
       " 'M820-F202--_2_0605_fluoroonly.mat',\n",
       " 'M820-F202--_3_0606_fluoroonly.mat',\n",
       " 'M820-F203--_2_0608_fluoroonly.mat']"
      ]
     },
     "execution_count": 5,
     "metadata": {},
     "output_type": "execute_result"
    }
   ],
   "source": [
    "onlyfiles"
   ]
  },
  {
   "cell_type": "code",
   "execution_count": null,
   "metadata": {
    "collapsed": true
   },
   "outputs": [],
   "source": []
  }
 ],
 "metadata": {
  "kernelspec": {
   "display_name": "Python 2",
   "language": "python",
   "name": "python2"
  },
  "language_info": {
   "codemirror_mode": {
    "name": "ipython",
    "version": 2
   },
   "file_extension": ".py",
   "mimetype": "text/x-python",
   "name": "python",
   "nbconvert_exporter": "python",
   "pygments_lexer": "ipython2",
   "version": "2.7.13"
  }
 },
 "nbformat": 4,
 "nbformat_minor": 2
}
